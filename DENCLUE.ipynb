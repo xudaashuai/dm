{
 "cells": [
  {
   "cell_type": "code",
   "execution_count": 46,
   "metadata": {},
   "outputs": [
    {
     "ename": "ImportError",
     "evalue": "No module named 'networkx'",
     "output_type": "error",
     "traceback": [
      "\u001b[0;31m---------------------------------------------------------------------------\u001b[0m",
      "\u001b[0;31mImportError\u001b[0m                               Traceback (most recent call last)",
      "\u001b[0;32m<ipython-input-46-751c06f67087>\u001b[0m in \u001b[0;36m<module>\u001b[0;34m()\u001b[0m\n\u001b[1;32m      1\u001b[0m \u001b[0;32mimport\u001b[0m \u001b[0mnumpy\u001b[0m \u001b[0;32mas\u001b[0m \u001b[0mnp\u001b[0m\u001b[0;34m\u001b[0m\u001b[0m\n\u001b[1;32m      2\u001b[0m \u001b[0;32mfrom\u001b[0m \u001b[0msklearn\u001b[0m\u001b[0;34m.\u001b[0m\u001b[0mbase\u001b[0m \u001b[0;32mimport\u001b[0m \u001b[0mBaseEstimator\u001b[0m\u001b[0;34m,\u001b[0m \u001b[0mClusterMixin\u001b[0m\u001b[0;34m\u001b[0m\u001b[0m\n\u001b[0;32m----> 3\u001b[0;31m \u001b[0;32mimport\u001b[0m \u001b[0mnetworkx\u001b[0m \u001b[0;32mas\u001b[0m \u001b[0mnx\u001b[0m\u001b[0;34m\u001b[0m\u001b[0m\n\u001b[0m\u001b[1;32m      4\u001b[0m \u001b[0;32mimport\u001b[0m \u001b[0mmatplotlib\u001b[0m\u001b[0;34m.\u001b[0m\u001b[0mpyplot\u001b[0m \u001b[0;32mas\u001b[0m \u001b[0mplt\u001b[0m\u001b[0;34m\u001b[0m\u001b[0m\n\u001b[1;32m      5\u001b[0m \u001b[0;32mfrom\u001b[0m \u001b[0msklearn\u001b[0m\u001b[0;34m.\u001b[0m\u001b[0mdatasets\u001b[0m \u001b[0;32mimport\u001b[0m \u001b[0mload_iris\u001b[0m\u001b[0;34m\u001b[0m\u001b[0m\n",
      "\u001b[0;31mImportError\u001b[0m: No module named 'networkx'"
     ]
    }
   ],
   "source": [
    "import numpy as np\n",
    "from sklearn.base import BaseEstimator, ClusterMixin\n",
    "import networkx as nx\n",
    "import matplotlib.pyplot as plt\n",
    "from sklearn.datasets import load_iris"
   ]
  },
  {
   "cell_type": "code",
   "execution_count": 35,
   "metadata": {},
   "outputs": [],
   "source": [
    "from sklearn.datasets import load_iris\n",
    "iris = load_iris()\n",
    "data = iris.data\n",
    "x_t = 3\n",
    "def _hill_climb(x_t, X, W=None, h=0.1, eps=1e-7):\n",
    "    error = 99.\n",
    "    prob = 0.\n",
    "    x_l1 = np.copy(x_t)\n",
    "    radius_new = 0.\n",
    "    radius_old = 0.\n",
    "    radius_twiceold = 0.\n",
    "    iters = 0.\n",
    "    while True:\n",
    "        radius_thriceold = radius_twiceold\n",
    "        radius_twiceold = radius_old\n",
    "        radius_old = radius_new\n",
    "        x_l0 = np.copy(x_l1)\n",
    "        x_l1, density = _step(x_l0, X, W=W, h=h)\n",
    "        error = density - prob\n",
    "        prob = density\n",
    "        radius_new = np.linalg.norm(x_l1 - x_l0)\n",
    "        radius = radius_thriceold + radius_twiceold + radius_old + radius_new\n",
    "        iters += 1\n",
    "        if iters > 3 and error < eps:\n",
    "            break\n",
    "    return [x_l1, prob, radius]"
   ]
  },
  {
   "cell_type": "code",
   "execution_count": 27,
   "metadata": {},
   "outputs": [],
   "source": [
    "def _step(x_l0, X, W=None, h=0.1):\n",
    "    n = X.shape[0]\n",
    "    d = X.shape[1]\n",
    "    superweight = 0.\n",
    "    x_l1 = np.zeros((1, d))\n",
    "    if W is None:\n",
    "        W = np.ones((n, 1))\n",
    "    else:\n",
    "        W = W\n",
    "    for j in range(n):\n",
    "        kernel = kernelize(x_l0, X[j], h, d)\n",
    "        kernel = kernel * W[j] / (h ** d)\n",
    "        superweight = superweight + kernel\n",
    "        x_l1 = x_l1 + (kernel * X[j])\n",
    "    x_l1 = x_l1 / superweight\n",
    "    density = superweight / np.sum(W)\n",
    "    return [x_l1, density]"
   ]
  },
  {
   "cell_type": "code",
   "execution_count": 28,
   "metadata": {},
   "outputs": [],
   "source": [
    "def kernelize(x, y, h, degree):\n",
    "    kernel = np.exp(-(np.linalg.norm(x - y) / h) ** 2. / 2.) / ((2. * np.pi) ** (degree / 2))\n",
    "    return kernel"
   ]
  },
  {
   "cell_type": "code",
   "execution_count": 29,
   "metadata": {},
   "outputs": [],
   "source": [
    "class DENCLUE(BaseEstimator, ClusterMixin):\n",
    "\n",
    "    def __init__(self, h=None, eps=1e-4, min_density=0., metric='euclidean'):\n",
    "        self.h = h\n",
    "        self.eps = eps\n",
    "        self.min_density = min_density\n",
    "        self.metric = metric\n",
    "\n",
    "    def fit(self, X, y=None, sample_weight=None):\n",
    "        if not self.eps > 0.0:\n",
    "            raise ValueError(\"eps must be positive.\")\n",
    "        self.n_samples = X.shape[0]\n",
    "        self.n_features = X.shape[1]\n",
    "        density_attractors = np.zeros((self.n_samples, self.n_features))\n",
    "        radii = np.zeros((self.n_samples, 1))\n",
    "        density = np.zeros((self.n_samples, 1))\n",
    "         # create default values\n",
    "        if self.h is None:\n",
    "            self.h = np.std(X) / 5\n",
    "        if sample_weight is None:\n",
    "            sample_weight = np.ones((self.n_samples, 1))\n",
    "        else:\n",
    "            sample_weight = sample_weight\n",
    "\n",
    "        # initialize all labels to noise\n",
    "        labels = -np.ones(X.shape[0])\n",
    "\n",
    "        # climb each hill\n",
    "        for i in range(self.n_samples):\n",
    "            density_attractors[i], density[i], radii[i] = _hill_climb(X[i], X, W=sample_weight,h=self.h, eps=self.eps)\n",
    "\n",
    "        densitys = np.zeros(self.n_samples)\n",
    "        for i in range(data.shape[0]):\n",
    "            densitys[i] = obj.get_density(x=data[i], X=data)\n",
    "\n",
    "        cluster_info = {}\n",
    "        num_clusters = 0\n",
    "        cluster_info[num_clusters] = {'instances': [0],\n",
    "                                      'centroid': np.atleast_2d(density_attractors[0])}\n",
    "        g_clusters = nx.Graph()\n",
    "        for j1 in range(self.n_samples):\n",
    "            g_clusters.add_node(j1, attr_dict={'attractor': density_attractors[j1], 'radius': radii[j1], 'density': densitys[j1]})\n",
    "\n",
    "\n",
    "        for j1 in range(self.n_samples):\n",
    "            for j2 in (x for x in range(self.n_samples) if x != j1):\n",
    "\n",
    "                if g_clusters.has_edge(j1, j2):\n",
    "                    continue\n",
    "                diff = np.linalg.norm(g_clusters.node[j1]['attr_dict']['attractor'] - g_clusters.node[j2]['attr_dict']['attractor'])\n",
    "                if diff <= (g_clusters.node[j1]['attr_dict']['radius'] + g_clusters.node[j1]['attr_dict']['radius']):\n",
    "                    g_clusters.add_edge(j1, j2)\n",
    "\n",
    "\n",
    "        clusters = list(nx.connected_component_subgraphs(g_clusters,copy=True))\n",
    "        num_clusters = 0\n",
    "\n",
    "\n",
    "        for clust in clusters:\n",
    "\n",
    "\n",
    "            max_instance = max(clust, key=lambda x: clust.node[x]['attr_dict']['density'])\n",
    "            max_density = clust.node[max_instance]['attr_dict']['density']\n",
    "            max_centroid = clust.node[max_instance]['attr_dict']['attractor']\n",
    "\n",
    "\n",
    "            complete = False\n",
    "            c_size = len(clust.nodes())\n",
    "            if clust.number_of_edges() == (c_size * (c_size - 1)) / 2.:\n",
    "                complete = True\n",
    "            cluster_info[num_clusters] = {'instances': clust.nodes(),\n",
    "                                          'size': c_size,\n",
    "                                          'centroid': max_centroid,\n",
    "                                          'density': max_density,\n",
    "                                          'complete': complete}\n",
    "\n",
    "\n",
    "            if max_density >= self.min_density:\n",
    "                labels[clust.nodes()] = num_clusters\n",
    "            num_clusters += 1\n",
    "\n",
    "        self.clust_info_ = cluster_info\n",
    "        self.labels_ = labels\n",
    "        nx.draw(g_clusters)\n",
    "        plt.show()\n",
    "        return self"
   ]
  },
  {
   "cell_type": "code",
   "execution_count": 30,
   "metadata": {},
   "outputs": [],
   "source": [
    "def get_density(self, x, X, y=None, sample_weight=None):\n",
    "        superweight = 0.\n",
    "        n_samples = X.shape[0]\n",
    "        n_features = X.shape[1]\n",
    "        if sample_weight is None:\n",
    "            sample_weight = np.ones((n_samples, 1))\n",
    "        else:\n",
    "            sample_weight = sample_weight\n",
    "        for y in range(n_samples):\n",
    "            kernel = kernelize(x, X[y], h=self.h, degree=n_features)\n",
    "            kernel = kernel * sample_weight[y] / (self.h ** n_features)\n",
    "            superweight = superweight + kernel\n",
    "        density = superweight / np.sum(sample_weight)\n",
    "        return density"
   ]
  },
  {
   "cell_type": "code",
   "execution_count": 24,
   "metadata": {},
   "outputs": [
    {
     "ename": "AttributeError",
     "evalue": "'DENCLUE' object has no attribute 'get_density'",
     "output_type": "error",
     "traceback": [
      "\u001b[0;31m---------------------------------------------------------------------------\u001b[0m",
      "\u001b[0;31mAttributeError\u001b[0m                            Traceback (most recent call last)",
      "\u001b[0;32m<ipython-input-24-44efc4642b33>\u001b[0m in \u001b[0;36m<module>\u001b[0;34m()\u001b[0m\n\u001b[1;32m      1\u001b[0m \u001b[0mobj\u001b[0m \u001b[0;34m=\u001b[0m \u001b[0mDENCLUE\u001b[0m\u001b[0;34m(\u001b[0m\u001b[0mh\u001b[0m\u001b[0;34m=\u001b[0m\u001b[0;36m0.1\u001b[0m\u001b[0;34m,\u001b[0m \u001b[0meps\u001b[0m\u001b[0;34m=\u001b[0m\u001b[0;36m0.0001\u001b[0m\u001b[0;34m,\u001b[0m \u001b[0mmin_density\u001b[0m\u001b[0;34m=\u001b[0m\u001b[0;36m2.85\u001b[0m\u001b[0;34m)\u001b[0m\u001b[0;34m\u001b[0m\u001b[0m\n\u001b[0;32m----> 2\u001b[0;31m \u001b[0mobj\u001b[0m\u001b[0;34m.\u001b[0m\u001b[0mfit\u001b[0m\u001b[0;34m(\u001b[0m\u001b[0mdata\u001b[0m\u001b[0;34m)\u001b[0m\u001b[0;34m\u001b[0m\u001b[0m\n\u001b[0m",
      "\u001b[0;32m<ipython-input-21-b66a9839ceda>\u001b[0m in \u001b[0;36mfit\u001b[0;34m(self, X, y, sample_weight)\u001b[0m\n\u001b[1;32m     32\u001b[0m         \u001b[0mdensitys\u001b[0m \u001b[0;34m=\u001b[0m \u001b[0mnp\u001b[0m\u001b[0;34m.\u001b[0m\u001b[0mzeros\u001b[0m\u001b[0;34m(\u001b[0m\u001b[0mself\u001b[0m\u001b[0;34m.\u001b[0m\u001b[0mn_samples\u001b[0m\u001b[0;34m)\u001b[0m\u001b[0;34m\u001b[0m\u001b[0m\n\u001b[1;32m     33\u001b[0m         \u001b[0;32mfor\u001b[0m \u001b[0mi\u001b[0m \u001b[0;32min\u001b[0m \u001b[0mrange\u001b[0m\u001b[0;34m(\u001b[0m\u001b[0mdata\u001b[0m\u001b[0;34m.\u001b[0m\u001b[0mshape\u001b[0m\u001b[0;34m[\u001b[0m\u001b[0;36m0\u001b[0m\u001b[0;34m]\u001b[0m\u001b[0;34m)\u001b[0m\u001b[0;34m:\u001b[0m\u001b[0;34m\u001b[0m\u001b[0m\n\u001b[0;32m---> 34\u001b[0;31m             \u001b[0mdensitys\u001b[0m\u001b[0;34m[\u001b[0m\u001b[0mi\u001b[0m\u001b[0;34m]\u001b[0m \u001b[0;34m=\u001b[0m \u001b[0mobj\u001b[0m\u001b[0;34m.\u001b[0m\u001b[0mget_density\u001b[0m\u001b[0;34m(\u001b[0m\u001b[0mx\u001b[0m\u001b[0;34m=\u001b[0m\u001b[0mdata\u001b[0m\u001b[0;34m[\u001b[0m\u001b[0mi\u001b[0m\u001b[0;34m]\u001b[0m\u001b[0;34m,\u001b[0m \u001b[0mX\u001b[0m\u001b[0;34m=\u001b[0m\u001b[0mdata\u001b[0m\u001b[0;34m)\u001b[0m\u001b[0;34m\u001b[0m\u001b[0m\n\u001b[0m\u001b[1;32m     35\u001b[0m \u001b[0;34m\u001b[0m\u001b[0m\n\u001b[1;32m     36\u001b[0m         \u001b[0mcluster_info\u001b[0m \u001b[0;34m=\u001b[0m \u001b[0;34m{\u001b[0m\u001b[0;34m}\u001b[0m\u001b[0;34m\u001b[0m\u001b[0m\n",
      "\u001b[0;31mAttributeError\u001b[0m: 'DENCLUE' object has no attribute 'get_density'"
     ]
    }
   ],
   "source": [
    "obj = DENCLUE(h=0.1, eps=0.0001, min_density=2.85)\n",
    "obj.fit(data)"
   ]
  }
 ],
 "metadata": {
  "kernelspec": {
   "display_name": "Python 3",
   "language": "python",
   "name": "python3"
  },
  "language_info": {
   "codemirror_mode": {
    "name": "ipython",
    "version": 3
   },
   "file_extension": ".py",
   "mimetype": "text/x-python",
   "name": "python",
   "nbconvert_exporter": "python",
   "pygments_lexer": "ipython3",
   "version": "3.5.2"
  }
 },
 "nbformat": 4,
 "nbformat_minor": 2
}
