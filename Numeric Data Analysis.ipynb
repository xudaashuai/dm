{
 "cells": [
  {
   "cell_type": "code",
   "execution_count": 1,
   "metadata": {},
   "outputs": [],
   "source": [
    "import numpy as np\n",
    "import matplotlib.pyplot as plt\n",
    "%matplotlib inline"
   ]
  },
  {
   "cell_type": "markdown",
   "metadata": {},
   "source": [
    "# 读入数据"
   ]
  },
  {
   "cell_type": "code",
   "execution_count": 2,
   "metadata": {},
   "outputs": [],
   "source": [
    "f = open('magic04.txt')\n",
    "data = []\n",
    "y=[]\n",
    "for i in f.read().split():\n",
    "    data.append([float(j)for j in i.split(',')[:-1]])\n",
    "    y.append(i.split(',')[-1])\n",
    "    \n",
    "data = np.array(data) # 原始数据\n",
    "n = data.shape[0] # 样本个数\n",
    "m = data.shape[1] # 样本维数"
   ]
  },
  {
   "cell_type": "code",
   "execution_count": 39,
   "metadata": {},
   "outputs": [
    {
     "data": {
      "text/plain": [
       "array([[-2.44534539e+01, -6.17886622e+00, -1.80116961e-01, ...,\n",
       "        -8.45242596e+00,  1.24462933e+01, -1.11935226e+02],\n",
       "       [-2.16465539e+01, -1.04574662e+01, -3.06516961e-01, ...,\n",
       "        -1.02071260e+01, -2.12848067e+01,  1.14429735e+01],\n",
       "       [ 1.08801846e+02,  1.13850034e+02,  1.23618304e+00, ...,\n",
       "        -4.54657260e+01,  4.93142933e+01,  6.29699735e+01],\n",
       "       ...,\n",
       "       [ 2.21953461e+01,  2.53495338e+01,  6.23283039e-01, ...,\n",
       "        -9.71592596e+00,  2.65299332e+00,  6.26985735e+01],\n",
       "       [ 6.72633461e+01,  5.47208338e+01,  1.16888304e+00, ...,\n",
       "        -6.40886260e+01,  5.70416933e+01,  2.14498574e+02],\n",
       "       [ 1.33931246e+02,  3.08204338e+01,  3.84283039e-01, ...,\n",
       "         3.12257740e+01,  2.50852933e+01,  7.84993735e+01]])"
      ]
     },
     "execution_count": 39,
     "metadata": {},
     "output_type": "execute_result"
    }
   ],
   "source": [
    "data"
   ]
  },
  {
   "attachments": {},
   "cell_type": "markdown",
   "metadata": {},
   "source": [
    "# 计算多元均值向量"
   ]
  },
  {
   "cell_type": "code",
   "execution_count": 40,
   "metadata": {},
   "outputs": [
    {
     "data": {
      "text/plain": [
       "array([-3.31138318e-15, -2.76801598e-15, -1.34166542e-17,  1.21011099e-17,\n",
       "        5.31252224e-18, -1.25073453e-15, -3.81645877e-15,  3.66478667e-16,\n",
       "       -2.63315482e-15, -2.34307258e-15])"
      ]
     },
     "execution_count": 40,
     "metadata": {},
     "output_type": "execute_result"
    }
   ],
   "source": [
    "s = [0,0,0,0,0,0,0,0,0,0]\n",
    "for i in range(n):\n",
    "    s=s+data[i]\n",
    "mean = s/n\n",
    "mean"
   ]
  },
  {
   "cell_type": "markdown",
   "metadata": {},
   "source": [
    "# 中心化"
   ]
  },
  {
   "cell_type": "code",
   "execution_count": 41,
   "metadata": {},
   "outputs": [
    {
     "data": {
      "text/plain": [
       "array([[-2.44534539e+01, -6.17886622e+00, -1.80116961e-01, ...,\n",
       "        -8.45242596e+00,  1.24462933e+01, -1.11935226e+02],\n",
       "       [-2.16465539e+01, -1.04574662e+01, -3.06516961e-01, ...,\n",
       "        -1.02071260e+01, -2.12848067e+01,  1.14429735e+01],\n",
       "       [ 1.08801846e+02,  1.13850034e+02,  1.23618304e+00, ...,\n",
       "        -4.54657260e+01,  4.93142933e+01,  6.29699735e+01],\n",
       "       ...,\n",
       "       [ 2.21953461e+01,  2.53495338e+01,  6.23283039e-01, ...,\n",
       "        -9.71592596e+00,  2.65299332e+00,  6.26985735e+01],\n",
       "       [ 6.72633461e+01,  5.47208338e+01,  1.16888304e+00, ...,\n",
       "        -6.40886260e+01,  5.70416933e+01,  2.14498574e+02],\n",
       "       [ 1.33931246e+02,  3.08204338e+01,  3.84283039e-01, ...,\n",
       "         3.12257740e+01,  2.50852933e+01,  7.84993735e+01]])"
      ]
     },
     "execution_count": 41,
     "metadata": {},
     "output_type": "execute_result"
    }
   ],
   "source": [
    "z=data\n",
    "for i in range(n):\n",
    "    z[i]=z[i]-mean\n",
    "z"
   ]
  },
  {
   "cell_type": "markdown",
   "metadata": {},
   "source": [
    "# 使用内积计算得到协方差矩阵"
   ]
  },
  {
   "cell_type": "code",
   "execution_count": 42,
   "metadata": {
    "scrolled": true
   },
   "outputs": [
    {
     "data": {
      "text/plain": [
       "array([[ 1.79468657e+03,  5.98832056e+02,  1.40634899e+01,\n",
       "        -4.88673783e+00, -2.80023307e+00, -9.24385500e+02,\n",
       "        -2.58713552e+02,  1.18133866e+01, -9.70630726e+00,\n",
       "         1.32479447e+03],\n",
       "       [ 5.98832056e+02,  3.36560086e+02,  6.22077467e+00,\n",
       "        -2.04502933e+00, -1.17816446e+00, -2.89957100e+02,\n",
       "        -1.64885064e+02,  1.51852884e+01,  3.16350305e+01,\n",
       "         4.61761921e+02],\n",
       "       [ 1.40634899e+01,  6.22077467e+00,  2.23337740e-01,\n",
       "        -7.35072146e-02, -4.22410108e-02, -4.47284297e+00,\n",
       "         2.29341395e+00,  1.52113339e-01, -2.30280376e+00,\n",
       "         1.54346558e+01],\n",
       "       [-4.88673783e+00, -2.04502933e+00, -7.35072146e-02,\n",
       "         3.34188897e-02,  1.97252425e-02,  1.21513100e+00,\n",
       "        -1.13646775e+00, -4.30002400e-02,  1.12267849e+00,\n",
       "        -4.48542469e+00],\n",
       "       [-2.80023307e+00, -1.17816446e+00, -4.22410108e-02,\n",
       "         1.97252425e-02,  1.22119946e-02,  6.55298229e-01,\n",
       "        -6.69353952e-01, -2.52377277e-02,  6.62872326e-01,\n",
       "        -2.51566226e+00],\n",
       "       [-9.24385500e+02, -2.89957100e+02, -4.47284297e+00,\n",
       "         1.21513100e+00,  6.55298229e-01,  3.50517348e+03,\n",
       "         8.27439241e+02,  3.14776536e+00, -8.60618247e+01,\n",
       "        -9.14642631e+02],\n",
       "       [-2.58713552e+02, -1.64885064e+02,  2.29341395e+00,\n",
       "        -1.13646775e+00, -6.69353952e-01,  8.27439241e+02,\n",
       "         2.60087529e+03, -1.82654002e+01, -2.47972042e+02,\n",
       "         1.41107736e+02],\n",
       "       [ 1.18133866e+01,  1.51852884e+01,  1.52113339e-01,\n",
       "        -4.30002400e-02, -2.52377277e-02,  3.14776536e+00,\n",
       "        -1.82654002e+01,  4.33759406e+02,  2.53290106e+00,\n",
       "         1.77842628e+01],\n",
       "       [-9.70630726e+00,  3.16350305e+01, -2.30280376e+00,\n",
       "         1.12267849e+00,  6.62872326e-01, -8.60618247e+01,\n",
       "        -2.47972042e+02,  2.53290106e+00,  6.81363178e+02,\n",
       "        -4.30230626e+02],\n",
       "       [ 1.32479447e+03,  4.61761921e+02,  1.54346558e+01,\n",
       "        -4.48542469e+00, -2.51566226e+00, -9.14642631e+02,\n",
       "         1.41107736e+02,  1.77842628e+01, -4.30230626e+02,\n",
       "         5.58454635e+03]])"
      ]
     },
     "execution_count": 42,
     "metadata": {},
     "output_type": "execute_result"
    }
   ],
   "source": [
    "p=np.dot(z.T,z)/n\n",
    "p"
   ]
  },
  {
   "cell_type": "markdown",
   "metadata": {},
   "source": [
    "# 使用外积计算得到协方差矩阵"
   ]
  },
  {
   "cell_type": "code",
   "execution_count": 45,
   "metadata": {},
   "outputs": [
    {
     "data": {
      "text/plain": [
       "array([[ 1.79468657e+03,  5.98832056e+02,  1.40634899e+01,\n",
       "        -4.88673783e+00, -2.80023307e+00, -9.24385500e+02,\n",
       "        -2.58713552e+02,  1.18133866e+01, -9.70630726e+00,\n",
       "         1.32479447e+03],\n",
       "       [ 5.98832056e+02,  3.36560086e+02,  6.22077467e+00,\n",
       "        -2.04502933e+00, -1.17816446e+00, -2.89957100e+02,\n",
       "        -1.64885064e+02,  1.51852884e+01,  3.16350305e+01,\n",
       "         4.61761921e+02],\n",
       "       [ 1.40634899e+01,  6.22077467e+00,  2.23337740e-01,\n",
       "        -7.35072146e-02, -4.22410108e-02, -4.47284297e+00,\n",
       "         2.29341395e+00,  1.52113339e-01, -2.30280376e+00,\n",
       "         1.54346558e+01],\n",
       "       [-4.88673783e+00, -2.04502933e+00, -7.35072146e-02,\n",
       "         3.34188897e-02,  1.97252425e-02,  1.21513100e+00,\n",
       "        -1.13646775e+00, -4.30002400e-02,  1.12267849e+00,\n",
       "        -4.48542469e+00],\n",
       "       [-2.80023307e+00, -1.17816446e+00, -4.22410108e-02,\n",
       "         1.97252425e-02,  1.22119946e-02,  6.55298229e-01,\n",
       "        -6.69353952e-01, -2.52377277e-02,  6.62872326e-01,\n",
       "        -2.51566226e+00],\n",
       "       [-9.24385500e+02, -2.89957100e+02, -4.47284297e+00,\n",
       "         1.21513100e+00,  6.55298229e-01,  3.50517348e+03,\n",
       "         8.27439241e+02,  3.14776536e+00, -8.60618247e+01,\n",
       "        -9.14642631e+02],\n",
       "       [-2.58713552e+02, -1.64885064e+02,  2.29341395e+00,\n",
       "        -1.13646775e+00, -6.69353952e-01,  8.27439241e+02,\n",
       "         2.60087529e+03, -1.82654002e+01, -2.47972042e+02,\n",
       "         1.41107736e+02],\n",
       "       [ 1.18133866e+01,  1.51852884e+01,  1.52113339e-01,\n",
       "        -4.30002400e-02, -2.52377277e-02,  3.14776536e+00,\n",
       "        -1.82654002e+01,  4.33759406e+02,  2.53290106e+00,\n",
       "         1.77842628e+01],\n",
       "       [-9.70630726e+00,  3.16350305e+01, -2.30280376e+00,\n",
       "         1.12267849e+00,  6.62872326e-01, -8.60618247e+01,\n",
       "        -2.47972042e+02,  2.53290106e+00,  6.81363178e+02,\n",
       "        -4.30230626e+02],\n",
       "       [ 1.32479447e+03,  4.61761921e+02,  1.54346558e+01,\n",
       "        -4.48542469e+00, -2.51566226e+00, -9.14642631e+02,\n",
       "         1.41107736e+02,  1.77842628e+01, -4.30230626e+02,\n",
       "         5.58454635e+03]])"
      ]
     },
     "execution_count": 45,
     "metadata": {},
     "output_type": "execute_result"
    }
   ],
   "source": [
    "sum=np.zeros([m,m])\n",
    "for i in range(n):\n",
    "    zi = np.array([z[i]])\n",
    "    sum=sum+np.dot(zi.T,zi)\n",
    "q=sum/n    \n",
    "q"
   ]
  },
  {
   "cell_type": "markdown",
   "metadata": {},
   "source": [
    "# 通过对比发现，这两种不同方法得到的协方差矩阵相同"
   ]
  },
  {
   "cell_type": "markdown",
   "metadata": {},
   "source": [
    "# 属性1和属性2的余弦相似度"
   ]
  },
  {
   "cell_type": "code",
   "execution_count": 46,
   "metadata": {},
   "outputs": [
    {
     "data": {
      "text/plain": [
       "5.2124668408593313e-08"
      ]
     },
     "execution_count": 46,
     "metadata": {},
     "output_type": "execute_result"
    }
   ],
   "source": [
    "a1 = z[:,0]\n",
    "a2 = z[:,1]\n",
    "c = a1.dot(a2)/(a1.dot(a1)*a2.dot(a2))\n",
    "c"
   ]
  },
  {
   "cell_type": "markdown",
   "metadata": {},
   "source": [
    "# 属性1和属性2之间的散点图"
   ]
  },
  {
   "cell_type": "code",
   "execution_count": 52,
   "metadata": {},
   "outputs": [
    {
     "data": {
      "text/plain": [
       "<matplotlib.collections.PathCollection at 0x7f19924eb208>"
      ]
     },
     "execution_count": 52,
     "metadata": {},
     "output_type": "execute_result"
    },
    {
     "data": {
      "image/png": "[encoded data removed]",
      "text/plain": [
       "<Figure size 432x288 with 1 Axes>"
      ]
     },
     "metadata": {},
     "output_type": "display_data"
    }
   ],
   "source": [
    "plt.scatter(a1,a2) "
   ]
  },
  {
   "cell_type": "markdown",
   "metadata": {},
   "source": [
    "# 方差"
   ]
  },
  {
   "cell_type": "code",
   "execution_count": 53,
   "metadata": {},
   "outputs": [],
   "source": [
    "vars = [(np.var(z[:,i])) for i in range(m)]"
   ]
  },
  {
   "cell_type": "markdown",
   "metadata": {},
   "source": [
    "# 最大方差"
   ]
  },
  {
   "cell_type": "code",
   "execution_count": 54,
   "metadata": {},
   "outputs": [
    {
     "data": {
      "text/plain": [
       "9"
      ]
     },
     "execution_count": 54,
     "metadata": {},
     "output_type": "execute_result"
    }
   ],
   "source": [
    "np.where(vars == np.max(vars))[0][0]"
   ]
  },
  {
   "cell_type": "markdown",
   "metadata": {},
   "source": [
    "# 最小方差"
   ]
  },
  {
   "cell_type": "code",
   "execution_count": 55,
   "metadata": {},
   "outputs": [
    {
     "data": {
      "text/plain": [
       "4"
      ]
     },
     "execution_count": 55,
     "metadata": {},
     "output_type": "execute_result"
    }
   ],
   "source": [
    "np.where(vars == np.min(vars))[0][0]"
   ]
  },
  {
   "cell_type": "markdown",
   "metadata": {},
   "source": [
    "# 协方差"
   ]
  },
  {
   "cell_type": "code",
   "execution_count": 56,
   "metadata": {},
   "outputs": [],
   "source": [
    "cov = {}\n",
    "for i in range(m):\n",
    "    for j in range(m):\n",
    "        if i >= j:continue\n",
    "        cov[''+str(i)+'-'+str(j)]=np.cov(z[:,i],z[:,j])[0][1]\n",
    "max_cov = min_cov = '0-1'\n",
    "for (key,value) in  cov.items():\n",
    "    if value > cov[max_cov]:\n",
    "        max_cov=key\n",
    "    if value < cov[min_cov]:\n",
    "        min_cov=key"
   ]
  },
  {
   "cell_type": "markdown",
   "metadata": {},
   "source": [
    "# 协方差最大的一对属性是"
   ]
  },
  {
   "cell_type": "code",
   "execution_count": 57,
   "metadata": {},
   "outputs": [
    {
     "data": {
      "text/plain": [
       "'0-9'"
      ]
     },
     "execution_count": 57,
     "metadata": {},
     "output_type": "execute_result"
    }
   ],
   "source": [
    "max_cov"
   ]
  },
  {
   "cell_type": "markdown",
   "metadata": {},
   "source": [
    "# 协方差最小的一对属性是"
   ]
  },
  {
   "cell_type": "code",
   "execution_count": 58,
   "metadata": {},
   "outputs": [
    {
     "data": {
      "text/plain": [
       "'0-5'"
      ]
     },
     "execution_count": 58,
     "metadata": {},
     "output_type": "execute_result"
    }
   ],
   "source": [
    "min_cov"
   ]
  }
 ],
 "metadata": {
  "kernelspec": {
   "display_name": "Python 3",
   "language": "python",
   "name": "python3"
  },
  "language_info": {
   "codemirror_mode": {
    "name": "ipython",
    "version": 3
   },
   "file_extension": ".py",
   "mimetype": "text/x-python",
   "name": "python",
   "nbconvert_exporter": "python",
   "pygments_lexer": "ipython3",
   "version": "3.5.2"
  }
 },
 "nbformat": 4,
 "nbformat_minor": 2
}
