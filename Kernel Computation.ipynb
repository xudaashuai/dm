{
 "cells": [
  {
   "cell_type": "code",
   "execution_count": 2,
   "metadata": {},
   "outputs": [],
   "source": [
    "import numpy as np\n",
    "import matplotlib.pyplot as plt\n",
    "%matplotlib inline"
   ]
  },
  {
   "cell_type": "markdown",
   "metadata": {},
   "source": [
    "# 读入数据"
   ]
  },
  {
   "cell_type": "code",
   "execution_count": 3,
   "metadata": {},
   "outputs": [],
   "source": [
    "f = open('iris.txt')\n",
    "data = []\n",
    "y=[]\n",
    "for i in f.read().split():\n",
    "    data.append([float(j)for j in i.split(',')[:-1]])\n",
    "    y.append(i.split(',')[-1])\n",
    "    \n",
    "data = np.array(data) # 原始数据\n",
    "n = data.shape[0] # 样本个数\n",
    "m = data.shape[1] # 样本维数"
   ]
  },
  {
   "cell_type": "markdown",
   "metadata": {},
   "source": [
    "# 计算核矩阵"
   ]
  },
  {
   "cell_type": "code",
   "execution_count": 4,
   "metadata": {},
   "outputs": [
    {
     "data": {
      "text/plain": [
       "array([[ 4057.69  ,  5305.6656,  4748.5881, ...,  5449.3924,  7791.5929,\n",
       "         2198.6721],\n",
       "       [ 5305.6656,  6968.9104,  6244.1604, ...,  7133.4916, 10209.0816,\n",
       "         2849.4244],\n",
       "       [ 4748.5881,  6244.1604,  5598.0324, ...,  6372.8289,  9124.0704,\n",
       "         2568.4624],\n",
       "       ...,\n",
       "       [ 5449.3924,  7133.4916,  6372.8289, ...,  7433.8884, 10586.3521,\n",
       "         2769.9169],\n",
       "       [ 7791.5929, 10209.0816,  9124.0704, ..., 10586.3521, 15242.3716,\n",
       "         3928.7824],\n",
       "       [ 2198.6721,  2849.4244,  2568.4624, ...,  2769.9169,  3928.7824,\n",
       "         1588.8196]])"
      ]
     },
     "execution_count": 4,
     "metadata": {},
     "output_type": "execute_result"
    }
   ],
   "source": [
    "def k(x1,x2):\n",
    "    return x1.dot(x2)**2\n",
    "km=np.zeros([n,n])\n",
    "for i in range(n):\n",
    "    for j in range(n):\n",
    "        km[i][j]=k(data[i],data[j])\n",
    "km"
   ]
  },
  {
   "cell_type": "markdown",
   "metadata": {},
   "source": [
    "# 中心化"
   ]
  },
  {
   "cell_type": "code",
   "execution_count": 13,
   "metadata": {},
   "outputs": [
    {
     "data": {
      "text/plain": [
       "array([[  150.77790333,   192.98698533,   168.992446  , ...,\n",
       "          222.44212733,   314.93935667,    33.67182867],\n",
       "       [ 1398.75350333,  1856.23178533,  1664.564746  , ...,\n",
       "         1906.54132733,  2732.42805667,   684.42412867],\n",
       "       [  841.67600333,  1131.48178533,  1018.436746  , ...,\n",
       "         1145.87862733,  1647.41685667,   403.46212867],\n",
       "       ...,\n",
       "       [ 1542.48030333,  2020.81298533,  1793.233246  , ...,\n",
       "         2206.93812733,  3109.69855667,   604.91662867],\n",
       "       [ 3884.68080333,  5096.40298533,  4544.474746  , ...,\n",
       "         5359.40182733,  7765.71805667,  1763.78212867],\n",
       "       [-1708.23999667, -2263.25421467, -2011.133254  , ...,\n",
       "        -2457.03337267, -3547.87114333,  -576.18067133]])"
      ]
     },
     "execution_count": 13,
     "metadata": {},
     "output_type": "execute_result"
    }
   ],
   "source": [
    "s=np.zeros([1,n])\n",
    "for i in range(n):\n",
    "    s=s+km[i]\n",
    "mean = s/n\n",
    "kms=np.zeros([n,n])\n",
    "for i in range(n):\n",
    "    kms[i]=km[i]-mean\n",
    "kms"
   ]
  },
  {
   "cell_type": "markdown",
   "metadata": {},
   "source": [
    "# 标准化"
   ]
  },
  {
   "cell_type": "code",
   "execution_count": 14,
   "metadata": {
    "scrolled": true
   },
   "outputs": [
    {
     "data": {
      "text/plain": [
       "array([[0.40349685, 0.40405313, 0.40366731, ..., 0.40759841, 0.40526808,\n",
       "        0.38485212],\n",
       "       [0.60286502, 0.60619905, 0.60749824, ..., 0.60181116, 0.59823552,\n",
       "        0.60763806],\n",
       "       [0.51387007, 0.51811505, 0.51943772, ..., 0.51409044, 0.51162836,\n",
       "        0.51145033],\n",
       "       ...,\n",
       "       [0.62582584, 0.62620177, 0.62503442, ..., 0.63645335, 0.62834979,\n",
       "        0.58041856],\n",
       "       [1.        , 1.        , 1.        , ..., 1.        , 1.        ,\n",
       "        0.97715774],\n",
       "       [0.10651269, 0.10552874, 0.10653887, ..., 0.09859744, 0.09693296,\n",
       "        0.17606829]])"
      ]
     },
     "execution_count": 14,
     "metadata": {},
     "output_type": "execute_result"
    }
   ],
   "source": [
    "kmn=np.zeros([n,n])\n",
    "for j in range(n):\n",
    "    biggest=kms[0][j]\n",
    "    little=kms[0][j]\n",
    "    for i in range(n):\n",
    "        if kms[i][j]>biggest:\n",
    "            biggest=kms[i][j]\n",
    "        if kms[i][j]<little:\n",
    "            little=kms[i][j]\n",
    "    for i in range(n):     \n",
    "        kmn[i][j]=(kms[i][j]-little)/(biggest-little)   \n",
    "kmn"
   ]
  },
  {
   "cell_type": "markdown",
   "metadata": {},
   "source": [
    "# 使用核函数将每个点x变换到特征空间φ（x）"
   ]
  },
  {
   "cell_type": "code",
   "execution_count": 9,
   "metadata": {},
   "outputs": [
    {
     "data": {
      "text/plain": [
       "array([[34.81      ,  9.        , 17.64      , ..., 35.04421208,\n",
       "         6.36396103, 12.51579003],\n",
       "       [47.61      ,  9.61      , 24.01      , ..., 47.81456054,\n",
       "         6.57609307, 14.63711037],\n",
       "       [43.56      ,  8.41      , 21.16      , ..., 42.93552375,\n",
       "         5.33158513, 12.13395237],\n",
       "       ...,\n",
       "       [44.89      ,  9.        , 27.04      , ..., 49.27120051,\n",
       "         9.75807358, 21.793031  ],\n",
       "       [59.29      , 14.44      , 44.89      , ..., 72.95927768,\n",
       "        11.82282538, 23.95677775],\n",
       "       [26.01      , 11.56      ,  2.25      , ..., 10.81873375,\n",
       "         0.96166522,  1.44249783]])"
      ]
     },
     "execution_count": 9,
     "metadata": {},
     "output_type": "execute_result"
    }
   ],
   "source": [
    "s1 = np.zeros([n,10])\n",
    "a = 2.0**0.5\n",
    "for i in range(n):\n",
    "    s1[i] = np.array([data[i][0]**2,data[i][1]**2,data[i][2]**2,data[i][3]**2,\n",
    "                       a*data[i][0]*data[i][1],a*data[i][1]*data[i][2],a*data[i][2]*data[i][3],\n",
    "                       a*data[i][0]*data[i][2],a*data[i][1]*data[i][3],a*data[i][0]*data[i][3]])\n",
    "s1"
   ]
  },
  {
   "cell_type": "code",
   "execution_count": 11,
   "metadata": {},
   "outputs": [
    {
     "data": {
      "text/plain": [
       "array([[ 4057.69  ,  5305.6656,  4748.5881, ...,  5449.3924,  7791.5929,\n",
       "         2198.6721],\n",
       "       [ 5305.6656,  6968.9104,  6244.1604, ...,  7133.4916, 10209.0816,\n",
       "         2849.4244],\n",
       "       [ 4748.5881,  6244.1604,  5598.0324, ...,  6372.8289,  9124.0704,\n",
       "         2568.4624],\n",
       "       ...,\n",
       "       [ 5449.3924,  7133.4916,  6372.8289, ...,  7433.8884, 10586.3521,\n",
       "         2769.9169],\n",
       "       [ 7791.5929, 10209.0816,  9124.0704, ..., 10586.3521, 15242.3716,\n",
       "         3928.7824],\n",
       "       [ 2198.6721,  2849.4244,  2568.4624, ...,  2769.9169,  3928.7824,\n",
       "         1588.8196]])"
      ]
     },
     "execution_count": 11,
     "metadata": {},
     "output_type": "execute_result"
    }
   ],
   "source": [
    "def k(x1,x2):\n",
    "    return x1.dot(x2)\n",
    "km1=np.zeros([n,n])\n",
    "for i in range(n):\n",
    "    for j in range(n):\n",
    "        km1[i][j]=k(s1[i],s1[j])\n",
    "km1"
   ]
  },
  {
   "cell_type": "markdown",
   "metadata": {},
   "source": [
    "# 居中这些点并对它们进行标准化"
   ]
  },
  {
   "cell_type": "code",
   "execution_count": 12,
   "metadata": {},
   "outputs": [
    {
     "data": {
      "text/plain": [
       "array([[0.40349685, 0.40405313, 0.40366731, ..., 0.40759841, 0.40526808,\n",
       "        0.38485212],\n",
       "       [0.60286502, 0.60619905, 0.60749824, ..., 0.60181116, 0.59823552,\n",
       "        0.60763806],\n",
       "       [0.51387007, 0.51811505, 0.51943772, ..., 0.51409044, 0.51162836,\n",
       "        0.51145033],\n",
       "       ...,\n",
       "       [0.62582584, 0.62620177, 0.62503442, ..., 0.63645335, 0.62834979,\n",
       "        0.58041856],\n",
       "       [1.        , 1.        , 1.        , ..., 1.        , 1.        ,\n",
       "        0.97715774],\n",
       "       [0.10651269, 0.10552874, 0.10653887, ..., 0.09859744, 0.09693296,\n",
       "        0.17606829]])"
      ]
     },
     "execution_count": 12,
     "metadata": {},
     "output_type": "execute_result"
    }
   ],
   "source": [
    "sum=np.zeros([1,n])\n",
    "for i in range(n):\n",
    "    sum=sum+km[i]\n",
    "mean1 = sum/n\n",
    "kms1=np.zeros([n,n])\n",
    "for i in range(n):\n",
    "    kms1[i]=km1[i]-mean1\n",
    "kmn1=np.zeros([n,n])\n",
    "for j in range(n):\n",
    "    biggest=kms1[0][j]\n",
    "    little=kms1[0][j]\n",
    "    for i in range(n):\n",
    "        if kms1[i][j]>biggest:\n",
    "            biggest=kms1[i][j]\n",
    "        if kms1[i][j]<little:\n",
    "            little=kms1[i][j]\n",
    "    for i in range(n):     \n",
    "        kmn1[i][j]=(kms1[i][j]-little)/(biggest-little)   \n",
    "kmn1"
   ]
  },
  {
   "cell_type": "markdown",
   "metadata": {},
   "source": [
    "# 对比发现，以上两种方案计算出的核矩阵相同"
   ]
  }
 ],
 "metadata": {
  "kernelspec": {
   "display_name": "Python 3",
   "language": "python",
   "name": "python3"
  },
  "language_info": {
   "codemirror_mode": {
    "name": "ipython",
    "version": 3
   },
   "file_extension": ".py",
   "mimetype": "text/x-python",
   "name": "python",
   "nbconvert_exporter": "python",
   "pygments_lexer": "ipython3",
   "version": "3.5.2"
  }
 },
 "nbformat": 4,
 "nbformat_minor": 2
}
